{
 "cells": [
  {
   "cell_type": "code",
   "execution_count": null,
   "id": "ae5ea1b6",
   "metadata": {
    "id": "ae5ea1b6"
   },
   "outputs": [],
   "source": [
    "import pandas as pd \n",
    "import seaborn as sns\n",
    "import matplotlib.pyplot as plt"
   ]
  },
  {
   "cell_type": "markdown",
   "id": "6e08fe65-07e7-4bef-9f86-5f95594d6507",
   "metadata": {
    "id": "6e08fe65-07e7-4bef-9f86-5f95594d6507"
   },
   "source": [
    "Exploration des données"
   ]
  },
  {
   "cell_type": "code",
   "execution_count": null,
   "id": "8a8c5cd1",
   "metadata": {
    "colab": {
     "base_uri": "https://localhost:8080/"
    },
    "id": "8a8c5cd1",
    "outputId": "c3eb3fd7-fff0-40fb-e4d1-f3ea2207360f"
   },
   "outputs": [],
   "source": [
    "df_plants = pd.read_csv(\"plants.csv\")\n",
    "df_plants.isnull().sum()"
   ]
  },
  {
   "cell_type": "code",
   "execution_count": null,
   "id": "b8d03de8",
   "metadata": {
    "id": "b8d03de8"
   },
   "outputs": [],
   "source": [
    "df_plants.head()"
   ]
  },
  {
   "cell_type": "code",
   "execution_count": null,
   "id": "15f37d0f",
   "metadata": {
    "colab": {
     "base_uri": "https://localhost:8080/"
    },
    "id": "15f37d0f",
    "outputId": "f05e4fbd-a23e-44b7-99e0-b244d6d3d566"
   },
   "outputs": [],
   "source": [
    "df_plants.shape"
   ]
  },
  {
   "cell_type": "code",
   "execution_count": null,
   "id": "5602b2cf",
   "metadata": {
    "colab": {
     "base_uri": "https://localhost:8080/"
    },
    "id": "5602b2cf",
    "outputId": "badbc8e5-7cfe-4f7c-b6ca-779b7b4acc0b"
   },
   "outputs": [],
   "source": [
    "df_plants.dtypes.value_counts()"
   ]
  },
  {
   "cell_type": "code",
   "execution_count": null,
   "id": "b6b99c60-415b-4c88-a79c-f899efd4120e",
   "metadata": {},
   "outputs": [],
   "source": [
    "sns.set_context(\"notebook\", font_scale=0.8, rc={\"lines.linewidth\": 2.0})\n",
    "plt.figure(figsize=(10,10))\n",
    "sns.pairplot(df_plants, hue='red_list_category', corner = True, palette = ['orange', 'blue'], height=4)\n",
    ";"
   ]
  },
  {
   "cell_type": "code",
   "execution_count": null,
   "id": "a0aa3d6f-264d-4eb3-a419-c6d6e2348410",
   "metadata": {
    "colab": {
     "base_uri": "https://localhost:8080/",
     "height": 296
    },
    "id": "a0aa3d6f-264d-4eb3-a419-c6d6e2348410",
    "outputId": "b695905c-7ae9-4285-abe7-6bfa913bbb52"
   },
   "outputs": [],
   "source": [
    "sns.stripplot(x=df_plants['continent'],y=df_plants['group'],hue=df_plants['red_list_category'],dodge=True).set(title=\"Répartition du risque d'extinction par continent en fonction du type de plante\") \n",
    ";"
   ]
  },
  {
   "cell_type": "code",
   "execution_count": null,
   "id": "5214fa37-6e48-4066-932b-e17b1035e613",
   "metadata": {},
   "outputs": [],
   "source": [
    "sns.stripplot(x=df_plants['year_last_seen'],y=df_plants['group'],hue=df_plants['red_list_category'],dodge=True).set(title=\"Répartition du risque d'extinction par année de dernière observation en fonction du type de plante\") \n",
    "plt.xticks(rotation=80)\n",
    ";"
   ]
  },
  {
   "cell_type": "code",
   "execution_count": null,
   "id": "c7038302-d88a-4162-b3b3-31c3948a6cc6",
   "metadata": {},
   "outputs": [],
   "source": [
    "plt.figure(figsize=(25,8))\n",
    "sns.stripplot(x=df_plants['country'],y=df_plants['group'],hue=df_plants['red_list_category']).set(title=\"Répartition du risque d'extinction par pays en fonction de l'espèce de plante\")\n",
    "plt.xticks(rotation=90)\n",
    ";"
   ]
  },
  {
   "cell_type": "code",
   "execution_count": null,
   "id": "6e8380ad",
   "metadata": {
    "colab": {
     "base_uri": "https://localhost:8080/"
    },
    "id": "6e8380ad",
    "outputId": "402afe63-7d41-4a91-99b6-ebddab4bf08b"
   },
   "outputs": [],
   "source": [
    "#for col in df_plants.select_dtypes('object'):\n",
    "    #print(f'{col :#<50} {df_plants[col].unique()}{ df_plants[col].nunique() }')    #Fstring afin d'afficher valeurs prises par colonnes qualitatives"
   ]
  },
  {
   "cell_type": "code",
   "execution_count": null,
   "id": "2b40a58c",
   "metadata": {
    "colab": {
     "base_uri": "https://localhost:8080/"
    },
    "id": "2b40a58c",
    "outputId": "c9089055-11c5-4c61-bb37-925b04a736fa"
   },
   "outputs": [],
   "source": [
    "df_plants.isnull().sum()"
   ]
  },
  {
   "cell_type": "code",
   "execution_count": null,
   "id": "94bbbb0f",
   "metadata": {
    "colab": {
     "base_uri": "https://localhost:8080/",
     "height": 338
    },
    "id": "94bbbb0f",
    "outputId": "ba57d65f-6e1f-4f68-bc4a-963ac55f5d8c"
   },
   "outputs": [],
   "source": [
    "plt.figure(figsize=(7,7))\n",
    "sns.countplot(data=df_plants, x='continent', hue='red_list_category').set(title=\"Quantification du risque d'extinction par continent\")\n",
    "plt.xticks(rotation=60)\n",
    ";"
   ]
  },
  {
   "cell_type": "code",
   "execution_count": null,
   "id": "a77af24c",
   "metadata": {
    "colab": {
     "base_uri": "https://localhost:8080/",
     "height": 347
    },
    "id": "a77af24c",
    "outputId": "50b2633c-2f7e-4ca8-8b32-a71c8fa5f046"
   },
   "outputs": [],
   "source": [
    "plt.figure(figsize=(7,7))\n",
    "sns.countplot(data=df_plants, x='group', hue='red_list_category').set(title=\"Quantification du risque d'extinction par espèce de plante\")\n",
    "plt.xticks(rotation=70)\n",
    ";"
   ]
  },
  {
   "cell_type": "code",
   "execution_count": null,
   "id": "ea9bfd51-a227-4591-992c-e5bcff3b61d9",
   "metadata": {},
   "outputs": [],
   "source": [
    "plt.figure(figsize=(7,7))\n",
    "sns.countplot(data=df_plants, x='year_last_seen', hue='red_list_category').set(title=\"Quantification du risque d'extinction par année de dernière observation\")\n",
    "plt.xticks(rotation=70)\n",
    ";"
   ]
  },
  {
   "cell_type": "code",
   "execution_count": null,
   "id": "adacec1c",
   "metadata": {
    "colab": {
     "base_uri": "https://localhost:8080/",
     "height": 518
    },
    "id": "adacec1c",
    "outputId": "2d63a6eb-5553-49a0-a26d-2d6753b8f7fc"
   },
   "outputs": [],
   "source": [
    "plt.figure(figsize=(22,8))\n",
    "sns.countplot(data=df_plants, x='country', hue='red_list_category',orient='v').set(title=\"Quantification du risque d'extinction par pays\")\n",
    "plt.xticks(rotation=90)\n",
    ";"
   ]
  },
  {
   "cell_type": "code",
   "execution_count": null,
   "id": "73996170",
   "metadata": {
    "colab": {
     "base_uri": "https://localhost:8080/"
    },
    "id": "73996170",
    "outputId": "79a55bc1-fd9d-4729-f07a-bc111b380ed8"
   },
   "outputs": [],
   "source": [
    "df_plants.dtypes #types des variables"
   ]
  },
  {
   "cell_type": "code",
   "execution_count": null,
   "id": "bbd0697d",
   "metadata": {
    "colab": {
     "base_uri": "https://localhost:8080/",
     "height": 338
    },
    "id": "bbd0697d",
    "outputId": "4f2e0154-6270-46e5-f9b1-f8672a58265e"
   },
   "outputs": [],
   "source": [
    "plt.figure(figsize=(13,13))\n",
    "sns.heatmap(df_plants.corr(numeric_only=True), square=True,annot=True,fmt=\".2f\").set(title=\"Corrélation des attributs quantitatifs\")\n",
    ";"
   ]
  },
  {
   "cell_type": "code",
   "execution_count": null,
   "id": "1a91b0ba",
   "metadata": {
    "colab": {
     "base_uri": "https://localhost:8080/"
    },
    "id": "1a91b0ba",
    "outputId": "038ee585-5d9d-47f1-d86b-b118b9c1a40c"
   },
   "outputs": [],
   "source": [
    "df_plants['red_list_category'].value_counts() #Le jeu de données est déséquilibré,la classe Extinct est                                        \n",
    "                                             #plus fréquente que la classe Extinct in the Wild"
   ]
  },
  {
   "cell_type": "raw",
   "id": "b653cc01-eb09-4142-bb64-0fec9d9f2489",
   "metadata": {},
   "source": [
    "Preprocessing des données"
   ]
  },
  {
   "cell_type": "code",
   "execution_count": null,
   "id": "e7941860-a24a-4860-b60b-f840d54148cf",
   "metadata": {},
   "outputs": [],
   "source": [
    "from sklearn.compose import make_column_selector as selector\n",
    "\n",
    "categorical_columns_selector = selector(dtype_include=object)\n",
    "categorical_columns = categorical_columns_selector(df_plants)\n",
    "categorical_columns.remove('red_list_category')  #On n'encode pas red_list_category en OneHotEncoder mais en LabelEncoder\n",
    "categorical_columns.remove('year_last_seen')    #On ne conserve pas cette variable du à ces valeurs nulles\n",
    " \n",
    "df_categorical = df_plants[categorical_columns]\n",
    "categorical_columns"
   ]
  },
  {
   "cell_type": "code",
   "execution_count": null,
   "id": "3fb89eed",
   "metadata": {
    "colab": {
     "base_uri": "https://localhost:8080/",
     "height": 748
    },
    "id": "3fb89eed",
    "outputId": "6f99200e-a927-4926-b155-9077920b9ae5"
   },
   "outputs": [],
   "source": [
    "#Ici on encode toutes les variables catégorielles afin de les étudier dans le modèle\n",
    "from sklearn.preprocessing import OneHotEncoder\n",
    "\n",
    "encoder = OneHotEncoder(sparse=False)\n",
    "df_encoded = encoder.fit_transform(df_categorical)\n",
    "\n",
    "df_target = df_plants['red_list_category']\n",
    "df_plants = df_plants.drop('red_list_category',axis=1)\n",
    "\n",
    "columns_encoded = encoder.get_feature_names_out(df_categorical.columns)\n",
    "df_encoded = pd.DataFrame(df_encoded, columns=columns_encoded)\n",
    "\n",
    "from sklearn.preprocessing import LabelEncoder\n",
    "le = LabelEncoder()\n",
    "df_target = le.fit_transform(df_target)\n",
    "df_target = pd.DataFrame(df_target, columns=['red_list_category'])\n"
   ]
  },
  {
   "cell_type": "code",
   "execution_count": null,
   "id": "c66e2d39-be9d-48e3-9c84-4ac62884451e",
   "metadata": {},
   "outputs": [],
   "source": [
    "from sklearn import preprocessing\n",
    "\n",
    "df = pd.concat([df_encoded,df_plants,df_target], axis=1)\n",
    "\n",
    "df = df.drop(['binomial_name','country','continent','group'], axis=1) #on peut se séparer des variables catégorielles non encodées du début\n",
    "df = df.drop('year_last_seen', axis=1)                                #et de cette variable avec des valeurs nulles\n",
    "\n",
    "df"
   ]
  },
  {
   "cell_type": "code",
   "execution_count": null,
   "id": "4c4df9e4-11a7-4119-a9c9-fae87bf9bcae",
   "metadata": {},
   "outputs": [],
   "source": [
    "print('#######Avant conversion des types')\n",
    "df.dtypes"
   ]
  },
  {
   "cell_type": "code",
   "execution_count": null,
   "id": "6649bc11-6cbe-4a94-8042-106d72c6d2ec",
   "metadata": {},
   "outputs": [],
   "source": [
    "import numpy as np\n",
    "nom_col = list(df.columns)\n",
    "nom_col.remove('red_list_category')\n",
    "\n",
    "#print(nom_col)\n",
    "for col in nom_col:\n",
    "    df[col] = df[col].astype(np.int64)  #chaque colonne est convertie en int64 (certains etaient en int32)\n",
    "print('#######Après conversion des types')\n",
    "df.dtypes"
   ]
  },
  {
   "cell_type": "code",
   "execution_count": null,
   "id": "4c24acfa-b6bd-4260-89e5-36da58301e77",
   "metadata": {},
   "outputs": [],
   "source": [
    "df.shape"
   ]
  },
  {
   "cell_type": "markdown",
   "id": "94852509",
   "metadata": {
    "id": "94852509"
   },
   "source": [
    "Rééchantillonage du dataset pour pallier au problème de déséquilibre"
   ]
  },
  {
   "cell_type": "code",
   "execution_count": null,
   "id": "07611610",
   "metadata": {
    "id": "07611610"
   },
   "outputs": [],
   "source": [
    "from sklearn.neighbors import KNeighborsClassifier\n",
    "from sklearn.preprocessing import StandardScaler\n",
    "from sklearn.model_selection import train_test_split"
   ]
  },
  {
   "cell_type": "code",
   "execution_count": null,
   "id": "d4383ea8-e1ae-4d45-8f25-70dd1e43c659",
   "metadata": {
    "colab": {
     "base_uri": "https://localhost:8080/"
    },
    "id": "d4383ea8-e1ae-4d45-8f25-70dd1e43c659",
    "outputId": "2aa09c7d-0ced-48cb-b7e9-c90ddf303b98"
   },
   "outputs": [],
   "source": [
    "#On utilise la technique d'oversampling ici\n",
    "#On augmente la classe minoritaire de Extinct in the wild afin d'avoir des échantillons équilibrés\n",
    "from imblearn.over_sampling import RandomOverSampler\n",
    "\n",
    "X = df[nom_col]\n",
    "y = df[['red_list_category']]\n",
    "\n",
    "print('X avant oversampling: ',X.shape)\n",
    "print('y avant oversampling: ',y.shape)\n",
    "print('-------------\\n')\n",
    "\n",
    "from imblearn.over_sampling import RandomOverSampler\n",
    "ros = RandomOverSampler(random_state=0)\n",
    "X_resampled, y_resampled = ros.fit_resample(X, y)\n",
    "\n",
    "from collections import Counter\n",
    "print('X après oversampling: ', X_resampled.shape)\n",
    "print('y après oversampling: ', y_resampled.shape)\n"
   ]
  },
  {
   "cell_type": "code",
   "execution_count": null,
   "id": "ca70106c",
   "metadata": {
    "colab": {
     "base_uri": "https://localhost:8080/"
    },
    "id": "ca70106c",
    "outputId": "696e5728-4d0c-45f7-9c32-5496e4203bbb"
   },
   "outputs": [],
   "source": [
    "X_train, X_test, y_train, y_test = train_test_split(X_resampled, y_resampled , test_size = 0.2,random_state=0)\n",
    "\n",
    "print('Jeu d entrainement du modèle:', X_train.shape)\n",
    "print('Jeu de test:', X_test.shape)"
   ]
  },
  {
   "cell_type": "code",
   "execution_count": null,
   "id": "f3d43c1d",
   "metadata": {
    "colab": {
     "base_uri": "https://localhost:8080/"
    },
    "id": "f3d43c1d",
    "outputId": "41bd9eb6-7b07-468b-d86d-ef6afcf0a816"
   },
   "outputs": [],
   "source": [
    "scaler = StandardScaler()    #on normalise\n",
    "scaler.fit_transform(X_train)\n",
    "scaler.fit_transform(X_test)"
   ]
  },
  {
   "cell_type": "markdown",
   "id": "d01c28e3",
   "metadata": {
    "id": "d01c28e3"
   },
   "source": [
    "Choix du modèle Knn - estimation de la performance"
   ]
  },
  {
   "cell_type": "code",
   "execution_count": null,
   "id": "3968f51b",
   "metadata": {
    "id": "3968f51b"
   },
   "outputs": [],
   "source": [
    "from sklearn.model_selection import validation_curve"
   ]
  },
  {
   "cell_type": "code",
   "execution_count": null,
   "id": "deadfd6b-530d-4518-ae3a-84bae7e364bb",
   "metadata": {},
   "outputs": [],
   "source": [
    "list_score_classifiers = []  #Liste regroupe les scores de chaque méthodes qu'on étudie"
   ]
  },
  {
   "cell_type": "code",
   "execution_count": null,
   "id": "ba470393",
   "metadata": {
    "colab": {
     "base_uri": "https://localhost:8080/",
     "height": 1000
    },
    "id": "ba470393",
    "outputId": "aae48518-472c-46b2-e801-c6d5c44ee1ff"
   },
   "outputs": [],
   "source": [
    "model_v_knn = KNeighborsClassifier()\n",
    "#Ce sont les différentes valeurs à tester pour k\n",
    "k = np.arange(1,100)\n",
    "\n",
    "train_score , validation_score = validation_curve(model_v_knn, X_train, y_train.values.ravel(),\n",
    "                                                  param_name='n_neighbors', param_range=k , cv=5, \n",
    "                                                  scoring = \"accuracy\" )                           #cv est le nombre de découpes pour la cross-validation\n",
    "print(validation_score) # ce qui est en bas représente les score de validation sur chaque découpe (cf cross-validation) pour un voisin donné\n",
    "\n",
    "#On représente le score obtenu sur la validation et l'apprentissage\n",
    "plt.plot(k, validation_score.mean(axis=1), label='validation') #on fait la moyenne des score de validation pour avoir le score validation\n",
    "plt.plot(k, train_score.mean(axis=1), label='train')\n",
    "\n",
    "plt.ylabel('score')\n",
    "plt.xlabel('n_neighbors')\n",
    "plt.legend()\n",
    "plt.title('Accuracy pour la méthode K plus proches voisins')\n",
    "plt.show()\n",
    "\n",
    "##il semblerait que le nombre de voisin k optimal ici  est k = 2  avec 0.946813978 d'accuracy\n",
    "#k = 1  -> 0.943946558\n",
    "#k = 2  -> 0.946813978  -> meilleur\n",
    "#k = 3  -> 0.9252517960000001\n",
    "#k = 4  -> 0.9209352519999999\n",
    "#k = 5  -> 0.897923946\n",
    "\n",
    "#cela prend 25secondes en moyenne à l'execution"
   ]
  },
  {
   "cell_type": "code",
   "execution_count": null,
   "id": "613d8b16",
   "metadata": {
    "colab": {
     "base_uri": "https://localhost:8080/"
    },
    "id": "613d8b16",
    "outputId": "ab8ad03c-5f3f-4e57-99e3-27677655b906"
   },
   "outputs": [],
   "source": [
    "#Ceci est le score d'accuracy de la cross-validation pour k=2, cf cellule du haut avec les scores\n",
    "#On va chercher à optimiser ce score , dans la cellule plus bas par la sélection sur Grille (GridSearch)\n",
    "print(np.array([0.96428571, 0.96402878, 0.94964029, 0.95683453, 0.89928058]).mean())    #le k trouvé"
   ]
  },
  {
   "cell_type": "markdown",
   "id": "6a226c2a",
   "metadata": {
    "id": "6a226c2a"
   },
   "source": [
    "Suite choix du modèle : Optimisation de notre modèle, utilisation de GridSearchCV"
   ]
  },
  {
   "cell_type": "code",
   "execution_count": null,
   "id": "a9ac67be",
   "metadata": {
    "colab": {
     "base_uri": "https://localhost:8080/"
    },
    "id": "a9ac67be",
    "outputId": "15748619-0220-47c6-80b9-3642b5dfdc6f"
   },
   "outputs": [],
   "source": [
    "from sklearn.model_selection import GridSearchCV\n",
    "\n",
    "param_grid= {'n_neighbors': [2, 20, 30, 50, 70, 90, 100],\n",
    "             'metric':['euclidean','manhattan','hamming'],\n",
    "             'weights': ['uniform', 'distance']\n",
    "            }\n",
    "\n",
    "grid_knn = GridSearchCV(KNeighborsClassifier(algorithm='auto'),param_grid,cv=5,scoring='accuracy')\n",
    "\n",
    "grid_knn.fit(X_train, y_train.values.ravel())     #9 secondes environ"
   ]
  },
  {
   "cell_type": "code",
   "execution_count": null,
   "id": "c08b9452",
   "metadata": {
    "colab": {
     "base_uri": "https://localhost:8080/"
    },
    "id": "c08b9452",
    "outputId": "4819660a-2d2f-4438-8f5e-04ba841151c0"
   },
   "outputs": [],
   "source": [
    "#Le modèle qui a obtenu le meilleur score\n",
    "#On a un score d'accuracy    de 0.9583247687564235  > 0.946813978\n",
    "grid_knn.best_score_"
   ]
  },
  {
   "cell_type": "code",
   "execution_count": null,
   "id": "37c24ecd",
   "metadata": {
    "colab": {
     "base_uri": "https://localhost:8080/"
    },
    "id": "37c24ecd",
    "outputId": "fbc33daf-d1f8-4e60-ad7b-4521c98bb46e"
   },
   "outputs": [],
   "source": [
    "#Les meilleurs paramètres trouvés par GridSearchCV pour le modèle de K plus proches voisins\n",
    "grid_knn.best_params_"
   ]
  },
  {
   "cell_type": "code",
   "execution_count": null,
   "id": "d83c4b65",
   "metadata": {
    "id": "d83c4b65"
   },
   "outputs": [],
   "source": [
    "#On sauvegarde le meilleur estimateur calculé par GridSearchCV\n",
    "knn_model = grid_knn.best_estimator_"
   ]
  },
  {
   "cell_type": "markdown",
   "id": "c874b0d3-fbcb-4dc9-8eed-eba7ce39359d",
   "metadata": {
    "id": "c874b0d3-fbcb-4dc9-8eed-eba7ce39359d"
   },
   "source": [
    "Etape d'estimation des performances finales du modèle Knn choisi (erreur prédiction, erreur généralisation sur nouvelle donnée)"
   ]
  },
  {
   "cell_type": "code",
   "execution_count": null,
   "id": "c9507ace",
   "metadata": {
    "colab": {
     "base_uri": "https://localhost:8080/"
    },
    "id": "c9507ace",
    "outputId": "c6295f61-d6ad-4852-f541-4cde16c91621",
    "tags": []
   },
   "outputs": [],
   "source": [
    "list_score_classifiers.append(knn_model.score(X_test,y_test.values.ravel())) #ajout dans la liste des scores des classifieurs étudiés\n",
    "\n",
    "#Ici on teste le modèle sur les jeux de test\n",
    "#C'est l'accuracy sur les données de test pour estimer la performance de notre modèle K plus proches voisins\n",
    "knn_model.score(X_test,y_test.values.ravel())"
   ]
  },
  {
   "cell_type": "code",
   "execution_count": null,
   "id": "e2e26c91",
   "metadata": {
    "id": "e2e26c91"
   },
   "outputs": [],
   "source": [
    "from sklearn.metrics import confusion_matrix, ConfusionMatrixDisplay"
   ]
  },
  {
   "cell_type": "code",
   "execution_count": null,
   "id": "b91cf17b",
   "metadata": {
    "colab": {
     "base_uri": "https://localhost:8080/"
    },
    "id": "b91cf17b",
    "outputId": "2e1f02c3-efbb-476c-9089-ad2f1720c6c9"
   },
   "outputs": [],
   "source": [
    "#Evaluation du modèle K plus proches voisins par matrice de confusion\n",
    "cm = confusion_matrix(y_test.values.ravel(),knn_model.predict(X_test))"
   ]
  },
  {
   "cell_type": "code",
   "execution_count": null,
   "id": "71855495",
   "metadata": {
    "colab": {
     "base_uri": "https://localhost:8080/",
     "height": 279
    },
    "id": "71855495",
    "outputId": "2d943894-5289-4004-83bc-85759144408b"
   },
   "outputs": [],
   "source": [
    "disp = ConfusionMatrixDisplay(confusion_matrix=cm, display_labels=['Extinct', 'Extinct in the Wild'])\n",
    "disp.plot()\n",
    "disp.ax_.set_title(\"Matrice de confusion modèle K plus proches voisins\")\n",
    ";"
   ]
  },
  {
   "cell_type": "code",
   "execution_count": null,
   "id": "c4dab6f5",
   "metadata": {
    "id": "c4dab6f5"
   },
   "outputs": [],
   "source": [
    "from sklearn.metrics import classification_report"
   ]
  },
  {
   "cell_type": "code",
   "execution_count": null,
   "id": "af1cd1c3-3367-475b-9a68-0f0ad08065c8",
   "metadata": {
    "colab": {
     "base_uri": "https://localhost:8080/"
    },
    "id": "af1cd1c3-3367-475b-9a68-0f0ad08065c8",
    "outputId": "da89838c-4e28-4b74-85f8-34477452ee79"
   },
   "outputs": [],
   "source": [
    "print('Métriques de performance pour K plus proches voisins\\n\\n', \n",
    "    classification_report(y_test.values.ravel(), knn_model.predict(X_test), target_names=['Extinct','Extinct in the Wild']))"
   ]
  },
  {
   "cell_type": "markdown",
   "id": "d1b693fd-0f39-4e46-978e-48d461bae069",
   "metadata": {
    "id": "d1b693fd-0f39-4e46-978e-48d461bae069"
   },
   "source": [
    "Forêt aléatoire"
   ]
  },
  {
   "cell_type": "code",
   "execution_count": null,
   "id": "95959af1-a145-4ca5-83b4-9c0cd37260fc",
   "metadata": {
    "id": "95959af1-a145-4ca5-83b4-9c0cd37260fc"
   },
   "outputs": [],
   "source": [
    "from sklearn.ensemble import RandomForestClassifier\n",
    "param_grid = { \n",
    "    'n_estimators': [5, 20, 50], #nombre darbre pour une foret\n",
    "    'criterion' :['gini', 'entropy'],\n",
    "      'max_depth' : [2,4,6,8]  #profondeur arbre\n",
    "    \n",
    "}\n",
    "grid_rfc = GridSearchCV(\n",
    "    RandomForestClassifier(), \n",
    "    param_grid,     \n",
    "    cv=5,           # nombre découpes de validation croisée\n",
    "    scoring='accuracy'   # score à optimiser\n",
    ")"
   ]
  },
  {
   "cell_type": "code",
   "execution_count": null,
   "id": "b973fd26-7fd2-4c3b-a1f7-dc00032f2108",
   "metadata": {
    "colab": {
     "base_uri": "https://localhost:8080/"
    },
    "id": "b973fd26-7fd2-4c3b-a1f7-dc00032f2108",
    "outputId": "d1e58f8d-a133-4bb7-b740-f504aeceda2b"
   },
   "outputs": [],
   "source": [
    "grid_rfc.fit(X_train, y_train.values.ravel())   #6 secondes execution en moyenne"
   ]
  },
  {
   "cell_type": "code",
   "execution_count": null,
   "id": "914a6319-02a2-4d31-9f2a-cac104f61cb1",
   "metadata": {
    "colab": {
     "base_uri": "https://localhost:8080/"
    },
    "id": "914a6319-02a2-4d31-9f2a-cac104f61cb1",
    "outputId": "1845b6be-1632-4d0f-fa71-091c8c48c486"
   },
   "outputs": [],
   "source": [
    "#Les meilleurs paramètres trouvés par GridSearch pour le modèle de forêt aléatoire\n",
    "grid_rfc.best_params_"
   ]
  },
  {
   "cell_type": "code",
   "execution_count": null,
   "id": "b63a93af-ea66-40cc-8270-c15ff74144c4",
   "metadata": {
    "id": "b63a93af-ea66-40cc-8270-c15ff74144c4"
   },
   "outputs": [],
   "source": [
    "#On sauvegarde le meilleur estimateur calculé par GridSearchCV\n",
    "rfc_model = grid_rfc.best_estimator_"
   ]
  },
  {
   "cell_type": "markdown",
   "id": "0b9a5b99-509d-4970-8770-d19880a6d718",
   "metadata": {
    "id": "0b9a5b99-509d-4970-8770-d19880a6d718"
   },
   "source": [
    "Etape d'estimation des performances finales du modèle Forêt aléatoire (généralisation sur nouvelle donnée)"
   ]
  },
  {
   "cell_type": "code",
   "execution_count": null,
   "id": "b18fe401-c548-4440-958f-875ab4ceaa35",
   "metadata": {
    "colab": {
     "base_uri": "https://localhost:8080/"
    },
    "id": "b18fe401-c548-4440-958f-875ab4ceaa35",
    "outputId": "02a56778-8c43-428b-90e0-fb0f9b14fe42"
   },
   "outputs": [],
   "source": [
    "list_score_classifiers.append(rfc_model.score(X_test,y_test.values.ravel())) #ajout dans la liste des scores des classifieurs étudiés\n",
    "\n",
    "#Ici on teste le modèle sur les jeux de test\n",
    "#C'est l'accuracy sur les données de test pour estimer la performance de notre modèle Forêt aléatoire\n",
    "rfc_model.score(X_test,y_test.values.ravel())"
   ]
  },
  {
   "cell_type": "code",
   "execution_count": null,
   "id": "d8df0bd5-ea59-45b3-8d4f-7836c1a27ac0",
   "metadata": {
    "colab": {
     "base_uri": "https://localhost:8080/"
    },
    "id": "d8df0bd5-ea59-45b3-8d4f-7836c1a27ac0",
    "outputId": "2ef7a457-0bac-4b23-d309-7a5203748bdc"
   },
   "outputs": [],
   "source": [
    "#Evaluation du modèle Forêt aléatoire par matrice de confusion\n",
    "cm = confusion_matrix(y_test.values.ravel(),rfc_model.predict(X_test))"
   ]
  },
  {
   "cell_type": "code",
   "execution_count": null,
   "id": "5b3b8907-5eaa-43b0-a3dd-73748fd550c8",
   "metadata": {
    "colab": {
     "base_uri": "https://localhost:8080/",
     "height": 279
    },
    "id": "5b3b8907-5eaa-43b0-a3dd-73748fd550c8",
    "outputId": "b39a6c71-0e2b-4165-8873-8e2b6ec342e2"
   },
   "outputs": [],
   "source": [
    "disp = ConfusionMatrixDisplay(confusion_matrix=cm, display_labels=['Extinct','Extinct in the Wild'])\n",
    "disp.plot()\n",
    "disp.ax_.set_title(\"Matrice de confusion modèle Forêt aléatoire\")\n",
    ";"
   ]
  },
  {
   "cell_type": "code",
   "execution_count": null,
   "id": "908ba1ff-c0c9-4e46-835d-0554a0db30ba",
   "metadata": {
    "colab": {
     "base_uri": "https://localhost:8080/"
    },
    "id": "908ba1ff-c0c9-4e46-835d-0554a0db30ba",
    "outputId": "845e702e-257e-498c-f0f8-607c530b3202"
   },
   "outputs": [],
   "source": [
    "print('Métriques de performance pour Forêt aléatoire\\n\\n',\n",
    "      classification_report(y_test.values.ravel(), rfc_model.predict(X_test), target_names=['Extinct','Extinct in the Wild']))"
   ]
  },
  {
   "cell_type": "markdown",
   "id": "104aff81-3798-4b3e-8f7e-bf0972b5b31f",
   "metadata": {
    "id": "104aff81-3798-4b3e-8f7e-bf0972b5b31f"
   },
   "source": [
    "Arbre de décision"
   ]
  },
  {
   "cell_type": "code",
   "execution_count": null,
   "id": "24202e0b-9601-4959-97f8-57e66817d4a7",
   "metadata": {
    "id": "24202e0b-9601-4959-97f8-57e66817d4a7"
   },
   "outputs": [],
   "source": [
    "from sklearn.tree import DecisionTreeClassifier\n",
    "param_grid = { \n",
    "     'max_leaf_nodes': [2 , 20 , 30, 50],\n",
    "     'min_samples_split': [2, 3, 4],\n",
    "      'max_depth' : [2,4,6] , #profondeur arbre\n",
    "       'criterion' :['gini', 'entropy']  #criteres aux noeuds\n",
    "}\n",
    "grid_dtc = GridSearchCV(\n",
    "    DecisionTreeClassifier(), \n",
    "    param_grid,     \n",
    "    cv=5,           #5 découpes de validation croisée\n",
    "    scoring='accuracy'   # score à optimiser\n",
    ")"
   ]
  },
  {
   "cell_type": "code",
   "execution_count": null,
   "id": "10563d71-a2cd-4db5-aa95-d496be04f263",
   "metadata": {
    "colab": {
     "base_uri": "https://localhost:8080/"
    },
    "id": "10563d71-a2cd-4db5-aa95-d496be04f263",
    "outputId": "fee13f17-b849-425b-8346-9f66a766e7b8"
   },
   "outputs": [],
   "source": [
    "grid_dtc.fit(X_train, y_train.values.ravel())  #7 secondes execution en moyenne"
   ]
  },
  {
   "cell_type": "code",
   "execution_count": null,
   "id": "1782f8ac-bcad-4bd6-a517-fa9c86e0db4d",
   "metadata": {
    "colab": {
     "base_uri": "https://localhost:8080/"
    },
    "id": "1782f8ac-bcad-4bd6-a517-fa9c86e0db4d",
    "outputId": "ee42586e-48f0-49e1-c6b9-e3be2f0cbee7"
   },
   "outputs": [],
   "source": [
    "#Les meilleurs paramètres trouvés par GridSearch pour le modèle d'arbre de décision\n",
    "grid_dtc.best_params_"
   ]
  },
  {
   "cell_type": "code",
   "execution_count": null,
   "id": "9a553635-df54-4303-8e36-dd04f6eda5bf",
   "metadata": {
    "id": "9a553635-df54-4303-8e36-dd04f6eda5bf"
   },
   "outputs": [],
   "source": [
    "#On sauvegarde le meilleur estimateur calculé par GridSearchCV\n",
    "dtc_model = grid_dtc.best_estimator_"
   ]
  },
  {
   "cell_type": "markdown",
   "id": "852ff786-fd4b-4c39-9b78-132f210e1489",
   "metadata": {
    "id": "852ff786-fd4b-4c39-9b78-132f210e1489"
   },
   "source": [
    "Etape d'estimation des performances finales du modèle Abre de décision (généralisation sur nouvelle donnée)"
   ]
  },
  {
   "cell_type": "code",
   "execution_count": null,
   "id": "294edc9b-e96e-45d5-8f1e-729b8707fc47",
   "metadata": {
    "colab": {
     "base_uri": "https://localhost:8080/"
    },
    "id": "294edc9b-e96e-45d5-8f1e-729b8707fc47",
    "outputId": "f7baace5-c6e0-4c7b-c6b4-afdf3000964f"
   },
   "outputs": [],
   "source": [
    "list_score_classifiers.append(dtc_model.score(X_test,y_test.values.ravel())) #ajout dans la liste des scores des classifieurs étudiés\n",
    "\n",
    "#Ici on teste le modèle sur les jeux de test\n",
    "#C'est l'accuracy sur les données de test pour estimer la performance de notre modèle Arbre de décision\n",
    "dtc_model.score(X_test,y_test.values.ravel())"
   ]
  },
  {
   "cell_type": "code",
   "execution_count": null,
   "id": "cb011fd9-8aea-4cc2-85e4-bd1271602b4d",
   "metadata": {
    "colab": {
     "base_uri": "https://localhost:8080/"
    },
    "id": "cb011fd9-8aea-4cc2-85e4-bd1271602b4d",
    "outputId": "5356c118-f4d2-4176-b2a9-5f91aec372e0"
   },
   "outputs": [],
   "source": [
    "#Evaluation du modèle Arbre de décision par matrice de confusion\n",
    "cm = confusion_matrix(y_test.values.ravel(),dtc_model.predict(X_test))"
   ]
  },
  {
   "cell_type": "code",
   "execution_count": null,
   "id": "f216422a-ed46-433d-a6d7-9b9f439c7232",
   "metadata": {
    "colab": {
     "base_uri": "https://localhost:8080/",
     "height": 281
    },
    "id": "f216422a-ed46-433d-a6d7-9b9f439c7232",
    "outputId": "8bcb70c8-8cff-4baf-d546-bc18b0b274cd"
   },
   "outputs": [],
   "source": [
    "disp = ConfusionMatrixDisplay(confusion_matrix=cm, display_labels=['Extinct','Extinct in the Wild'])\n",
    "disp.plot()\n",
    "disp.ax_.set_title(\"Matrice de confusion modèle Arbre de décision\")\n",
    ";"
   ]
  },
  {
   "cell_type": "code",
   "execution_count": null,
   "id": "5f451185-cd87-4c1f-ac71-dbb257b64e68",
   "metadata": {
    "colab": {
     "base_uri": "https://localhost:8080/"
    },
    "id": "5f451185-cd87-4c1f-ac71-dbb257b64e68",
    "outputId": "d37fba23-7a7a-4d92-a603-0abccdb80d58"
   },
   "outputs": [],
   "source": [
    "print('Métriques de performance pour Arbre de décision\\n\\n', \n",
    "    classification_report(y_test.values.ravel(), dtc_model.predict(X_test), target_names=['Extinct','Extinct in the Wild']))"
   ]
  },
  {
   "cell_type": "markdown",
   "id": "f3n85uSKPe9P",
   "metadata": {
    "id": "f3n85uSKPe9P"
   },
   "source": [
    "XGBoost\n"
   ]
  },
  {
   "cell_type": "code",
   "execution_count": null,
   "id": "6xmoqU28SC9j",
   "metadata": {
    "id": "6xmoqU28SC9j"
   },
   "outputs": [],
   "source": [
    "from xgboost import XGBClassifier"
   ]
  },
  {
   "cell_type": "code",
   "execution_count": null,
   "id": "rQjl3dd2SdlO",
   "metadata": {
    "id": "rQjl3dd2SdlO"
   },
   "outputs": [],
   "source": [
    "parameters = {\n",
    "    'booster': ['gbtree','gblinear'],\n",
    "    'n_estimators': [5,20,50],  #nombre darbre pour une foret\n",
    "    'learning_rate': [0.1, 0.01, 0.05] #controler le taux apprentissage\n",
    "}\n",
    "\n",
    "grid_xgboost = GridSearchCV(\n",
    "    estimator=XGBClassifier(),\n",
    "    param_grid=parameters,\n",
    "    scoring = 'accuracy',     #score à optimiser\n",
    "    cv = 5     #5 découpes de validation croisée\n",
    ")"
   ]
  },
  {
   "cell_type": "code",
   "execution_count": null,
   "id": "8c6e03bc-5770-4897-b3ed-f398b94e148e",
   "metadata": {},
   "outputs": [],
   "source": [
    "grid_xgboost.fit(X_train, y_train.values.ravel())    #execution 31 secondes en moyenne"
   ]
  },
  {
   "cell_type": "code",
   "execution_count": null,
   "id": "Aew-1fHGXetg",
   "metadata": {
    "colab": {
     "base_uri": "https://localhost:8080/"
    },
    "id": "Aew-1fHGXetg",
    "outputId": "6c7772ef-9a7e-4d4e-b676-7fae5a5dc905"
   },
   "outputs": [],
   "source": [
    "#Les meilleurs paramètres trouvés par GridSearch pour le modèle XGboost\n",
    "grid_xgboost.best_params_"
   ]
  },
  {
   "cell_type": "code",
   "execution_count": null,
   "id": "J1S1AT1nULWU",
   "metadata": {
    "id": "J1S1AT1nULWU"
   },
   "outputs": [],
   "source": [
    "#On sauvegarde le meilleur estimateur calculé par GridSearchCV\n",
    "xgbc_model = grid_xgboost.best_estimator_"
   ]
  },
  {
   "cell_type": "markdown",
   "id": "SvVOwy7-YRsc",
   "metadata": {
    "id": "SvVOwy7-YRsc"
   },
   "source": [
    "Etape d'estimation des performances finales du modèle XGBoost choisi (erreur prédiction, erreur généralisation sur nouvelle donnée)\n"
   ]
  },
  {
   "cell_type": "code",
   "execution_count": null,
   "id": "SgvEgd8vY15h",
   "metadata": {
    "colab": {
     "base_uri": "https://localhost:8080/"
    },
    "id": "SgvEgd8vY15h",
    "outputId": "29192e60-5841-4345-8115-3e3b592be8f0"
   },
   "outputs": [],
   "source": [
    "list_score_classifiers.append(xgbc_model.score(X_test,y_test.values.ravel())) #ajout dans la liste des scores des classifieurs étudiés\n",
    "\n",
    "#Ici on teste le modèle sur les jeux de test\n",
    "#C'est l'accuracy sur les données de test pour estimer la performance de notre modèle XGboost\n",
    "xgbc_model.score(X_test,y_test.values.ravel())"
   ]
  },
  {
   "cell_type": "code",
   "execution_count": null,
   "id": "2OmTDIwHfmRI",
   "metadata": {
    "colab": {
     "base_uri": "https://localhost:8080/"
    },
    "id": "2OmTDIwHfmRI",
    "outputId": "b3f66490-07d1-43b5-a40e-6c4283967d5c"
   },
   "outputs": [],
   "source": [
    "#Evaluation du modèle XGboost par matrice de confusion\n",
    "cm = confusion_matrix(y_test.values.ravel(),xgbc_model.predict(X_test))"
   ]
  },
  {
   "cell_type": "code",
   "execution_count": null,
   "id": "f-gK97XWf2z_",
   "metadata": {
    "colab": {
     "base_uri": "https://localhost:8080/",
     "height": 279
    },
    "id": "f-gK97XWf2z_",
    "outputId": "8bc5fefd-7e97-4f5e-e3de-884e37777c31"
   },
   "outputs": [],
   "source": [
    "disp = ConfusionMatrixDisplay(confusion_matrix=cm, display_labels=['Extinct','Extinct in the Wild'])\n",
    "disp.plot()\n",
    "disp.ax_.set_title(\"Matrice de confusion modèle XGboost\")\n",
    ";"
   ]
  },
  {
   "cell_type": "code",
   "execution_count": null,
   "id": "jFvVw_YLgNtM",
   "metadata": {
    "colab": {
     "base_uri": "https://localhost:8080/"
    },
    "id": "jFvVw_YLgNtM",
    "outputId": "583a2692-7b92-4c96-8a5d-d6f8517c4cec"
   },
   "outputs": [],
   "source": [
    "print('Métriques de performance pour XGboost\\n\\n',\n",
    "    classification_report(y_test.values.ravel(), xgbc_model.predict(X_test), target_names=['Extinct','Extinct in the Wild']))"
   ]
  },
  {
   "cell_type": "markdown",
   "id": "d2178a9b-a35a-4e36-9ef4-6c563378bc6e",
   "metadata": {},
   "source": [
    "Résumé des performances en terme d'accuracy"
   ]
  },
  {
   "cell_type": "code",
   "execution_count": null,
   "id": "3aaf0031-32f2-4a73-a957-a069fd55abf7",
   "metadata": {},
   "outputs": [],
   "source": [
    "list_score_classifiers = [round(item, 3) for item in list_score_classifiers]\n",
    "list_score_classifiers.sort()#Trier les scores\n",
    "list_score_classifiers"
   ]
  },
  {
   "cell_type": "code",
   "execution_count": null,
   "id": "78a2ab26-7829-4efe-9476-f4fc20ba7436",
   "metadata": {},
   "outputs": [],
   "source": [
    "axis_x = ['Arbre de décision','Forêt aléatoire','XGBoost','K plus proches voisins']\n",
    "\n",
    "plt.figure(figsize=(12, 5))\n",
    "plt.barh(axis_x,list_score_classifiers, color=['red', 'green', 'grey', 'brown'])\n",
    "plt.xlabel(\"Accuracy\")\n",
    "plt.ylabel(\"Méthodes de classification\")\n",
    "plt.title(\"Comparaison des méthodes de classification\")\n",
    "for index, value in enumerate(list_score_classifiers):\n",
    "    plt.text(value, index,\n",
    "             str(value))"
   ]
  },
  {
   "cell_type": "code",
   "execution_count": null,
   "id": "c8d379e8-f331-4ffe-8f33-749c94545591",
   "metadata": {},
   "outputs": [],
   "source": []
  }
 ],
 "metadata": {
  "colab": {
   "collapsed_sections": [],
   "provenance": []
  },
  "kernelspec": {
   "display_name": "Python 3 (ipykernel)",
   "language": "python",
   "name": "python3"
  },
  "language_info": {
   "codemirror_mode": {
    "name": "ipython",
    "version": 3
   },
   "file_extension": ".py",
   "mimetype": "text/x-python",
   "name": "python",
   "nbconvert_exporter": "python",
   "pygments_lexer": "ipython3",
   "version": "3.10.8"
  }
 },
 "nbformat": 4,
 "nbformat_minor": 5
}
